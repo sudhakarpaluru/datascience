{
 "cells": [
  {
   "cell_type": "code",
   "execution_count": 34,
   "metadata": {},
   "outputs": [],
   "source": [
    "import numpy as np\n",
    "import scipy\n",
    "from scipy import linalg\n",
    "from scipy.stats import norm\n",
    "from numpy import random"
   ]
  },
  {
   "cell_type": "code",
   "execution_count": 35,
   "metadata": {},
   "outputs": [
    {
     "name": "stdout",
     "output_type": "stream",
     "text": [
      "[24.  6.]\n"
     ]
    }
   ],
   "source": [
    "#to get 4marks of x +9marks of y =150\n",
    "#x+y=30\n",
    "#4x+9y=150\n",
    "x_and_y_values=[[1,1],[4,9]]\n",
    "decimal_values=[30,150]\n",
    "x_and_y_value=np.array(x_and_y_values)\n",
    "decimal_value=np.array(decimal_values)\n",
    "solution=np.linalg.solve(x_and_y_values,decimal_value)\n",
    "print(solution)"
   ]
  },
  {
   "cell_type": "code",
   "execution_count": 36,
   "metadata": {},
   "outputs": [],
   "source": [
    "#TO TAKE RANDOM VARIABLES OF ANY 20\n",
    "#TO FIND CUMULATIVE DISTRIBUTION FUNCTION FOR 10 VARIABLES\n",
    "#TO FIND PROBABILTY DENSITY FUNCTION FOR 14 VARIABLES\n"
   ]
  },
  {
   "cell_type": "code",
   "execution_count": 37,
   "metadata": {},
   "outputs": [],
   "source": [
    "random_variables=random.choice(1000,20) #using random function taking 20 variables"
   ]
  },
  {
   "cell_type": "code",
   "execution_count": 38,
   "metadata": {},
   "outputs": [
    {
     "name": "stdout",
     "output_type": "stream",
     "text": [
      "[623 428 612 978  34 679 351 737   2 181 389 198 512 607 859 933 171 669\n",
      " 401 921]\n"
     ]
    }
   ],
   "source": [
    "print(random_variables)"
   ]
  },
  {
   "cell_type": "code",
   "execution_count": 55,
   "metadata": {},
   "outputs": [
    {
     "name": "stdout",
     "output_type": "stream",
     "text": [
      "[[[623 428 612 978  34 679 351 737   2 181 389 198 512 607 859 933 171\n",
      "   669 401 921]]]\n"
     ]
    }
   ],
   "source": [
    "random_variables=np.array([random_variables])\n",
    "print(random_variables)"
   ]
  },
  {
   "cell_type": "code",
   "execution_count": 40,
   "metadata": {},
   "outputs": [
    {
     "name": "stdout",
     "output_type": "stream",
     "text": [
      "514.25 290.68399938765117\n"
     ]
    }
   ],
   "source": [
    "mean=np.mean(random_variables)\n",
    "standard_deviation=np.std(random_variables)\n",
    "print(mean,standard_deviation)"
   ]
  },
  {
   "cell_type": "code",
   "execution_count": 46,
   "metadata": {},
   "outputs": [
    {
     "name": "stdout",
     "output_type": "stream",
     "text": [
      "[[0.64584207 0.38334206 0.63166899 0.94468642 0.04925266 0.7145643\n",
      "  0.28719145 0.7782507  0.03901531 0.12580701 0.33327718 0.1383075\n",
      "  0.49691206 0.6251656  0.88218882 0.92514728 0.11883322 0.70276404\n",
      "  0.3484163  0.91913708]]\n"
     ]
    }
   ],
   "source": [
    "cdf_function=norm.cdf(random_variables,loc=514.25,scale=290.683)#random variables cummulative density function \n",
    "\n",
    "print(cdf_function)"
   ]
  },
  {
   "cell_type": "code",
   "execution_count": 56,
   "metadata": {},
   "outputs": [
    {
     "name": "stdout",
     "output_type": "stream",
     "text": [
      "[[[0.00127967 0.00131333 0.00129698 0.00038441 0.00035057 0.00116879\n",
      "   0.0011722  0.00102324 0.0002905  0.00071136 0.00125076 0.00075939\n",
      "   0.00137239 0.00130432 0.00067929 0.00048625 0.00068345 0.0011911\n",
      "   0.00127213 0.0005156 ]]]\n"
     ]
    }
   ],
   "source": [
    "pdf_function=norm.pdf(random_variables,loc=514.25,scale=290.683)#20 random variables pdf function\n",
    "print(pdf_function)"
   ]
  },
  {
   "cell_type": "code",
   "execution_count": null,
   "metadata": {},
   "outputs": [],
   "source": []
  }
 ],
 "metadata": {
  "kernelspec": {
   "display_name": "Python 3",
   "language": "python",
   "name": "python3"
  },
  "language_info": {
   "codemirror_mode": {
    "name": "ipython",
    "version": 3
   },
   "file_extension": ".py",
   "mimetype": "text/x-python",
   "name": "python",
   "nbconvert_exporter": "python",
   "pygments_lexer": "ipython3",
   "version": "3.6.5"
  }
 },
 "nbformat": 4,
 "nbformat_minor": 2
}
